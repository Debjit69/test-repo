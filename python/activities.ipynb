{
 "cells": [
  {
   "cell_type": "code",
   "execution_count": null,
   "id": "7e3b933b-ad6e-4e1a-bb7f-f75a6a591152",
   "metadata": {},
   "outputs": [],
   "source": [
    "\n",
    "x = 3\n",
    "y = 3.9\n",
    "z = 1j\n",
    "\n",
    "print(f\"{float(x)}, {int(y)}, {complex(x)}\")"
   ]
  },
  {
   "cell_type": "code",
   "execution_count": null,
   "id": "0659d12e-63b2-4258-95ad-6104967ca994",
   "metadata": {},
   "outputs": [],
   "source": [
    "def sum(a,b):return (a+b)\n",
    "    \n",
    "x = int(input(\"Enter an integer  : \"))\n",
    "y = int(input(\"Enter an integer  : \"))\n",
    "\n",
    "print(f\"Sum of {x} and {y} is {sum(x,y)}\")"
   ]
  },
  {
   "cell_type": "code",
   "execution_count": null,
   "id": "bd7c620b-6920-4fe4-9b2b-3bfa28945acc",
   "metadata": {},
   "outputs": [],
   "source": [
    "def mul(a,b):return (a*b)\n",
    "    \n",
    "x = int(input(\"Enter an integer  : \"))\n",
    "y = int(input(\"Enter an integer  : \"))\n",
    "\n",
    "print(f\"Multiplication of {x} and {y} is {mul(x,y)}\")"
   ]
  },
  {
   "cell_type": "code",
   "execution_count": null,
   "id": "d68ebb74-bf3e-433a-baf6-4773f4cb2057",
   "metadata": {},
   "outputs": [],
   "source": [
    "def div(a,b):return (a/b)\n",
    "    \n",
    "x = int(input(\"Enter an integer  : \"))\n",
    "y = int(input(\"Enter an integer  : \"))\n",
    "\n",
    "print(f\"division of {x}/{y} is {div(x,y)}\")"
   ]
  },
  {
   "cell_type": "code",
   "execution_count": null,
   "id": "7050d1ec-7789-47bc-9b02-852ada06dbac",
   "metadata": {},
   "outputs": [],
   "source": [
    "def sub(a,b):return (a-b)\n",
    "    \n",
    "x = int(input(\"Enter an integer  : \"))\n",
    "y = int(input(\"Enter an integer  : \"))\n",
    "\n",
    "print(f\"Subtraction of {x} and {y} is {sub(x,y)}\")"
   ]
  },
  {
   "cell_type": "code",
   "execution_count": null,
   "id": "95f6799a",
   "metadata": {},
   "outputs": [],
   "source": [
    "#fiobnacci\n",
    "fs=0; nx=0; sc=1\n",
    "for i in range(int(input(\"Enter n : \"))):nx=fs+sc; print(nx, end=\" \");fs=sc;sc = nx"
   ]
  },
  {
   "cell_type": "code",
   "execution_count": null,
   "id": "6cc16fe0-0e92-42d3-87a9-5a6adb120dcd",
   "metadata": {},
   "outputs": [],
   "source": [
    "for i in range(5):\n",
    "    print(i, end=\" \")"
   ]
  },
  {
   "cell_type": "code",
   "execution_count": null,
   "id": "97b9d811-2312-47d1-859f-5c039c38cc59",
   "metadata": {},
   "outputs": [],
   "source": [
    "x = 0\n",
    "while x<5:\n",
    "    x+=1\n",
    "    print(x, end=\" \")"
   ]
  },
  {
   "cell_type": "code",
   "execution_count": null,
   "id": "5c78761a",
   "metadata": {},
   "outputs": [],
   "source": [
    "def call_me(name):\n",
    "    print(\"hello\", name)\n",
    "\n",
    "call_me(\"hunter87\")"
   ]
  },
  {
   "cell_type": "code",
   "execution_count": null,
   "id": "5efd7e54",
   "metadata": {},
   "outputs": [],
   "source": [
    "n = 6\n",
    "while n>1:\n",
    "    for i in  range(n):\n",
    "        print(i, end=\" \")\n",
    "    n-=1\n",
    "    print(\"\\n\")"
   ]
  },
  {
   "cell_type": "code",
   "execution_count": null,
   "id": "0e700684",
   "metadata": {},
   "outputs": [],
   "source": [
    "for i in range(5, 0, -1):\n",
    "    for i in range(i):\n",
    "        print(5, end=\" \")\n",
    "    print(\"\\n\")"
   ]
  },
  {
   "cell_type": "code",
   "execution_count": null,
   "id": "c4bc7f0d",
   "metadata": {},
   "outputs": [],
   "source": [
    "def fact(n):\n",
    "    f = 1\n",
    "    for i in range(1,n+1):\n",
    "        f *= i\n",
    "    return f\n",
    "\n",
    "x = 0\n",
    "while True:\n",
    "    i = int(input(\"Enter a number : \"))\n",
    "    if i<0: break\n",
    "    x += fact(i)\n",
    "\n",
    "print(x)\n"
   ]
  },
  {
   "cell_type": "code",
   "execution_count": null,
   "id": "65de7683",
   "metadata": {},
   "outputs": [],
   "source": [
    "x = \"*\"\n",
    "for i in range(5):\n",
    "    print(x)\n",
    "    x += \" *\"\n",
    "\n",
    "s = \"1\"\n",
    "for i in range(2, 5+2):\n",
    "    print(s)\n",
    "    s+=f\" {i}\"\n",
    "\n",
    "s = \"A\"\n",
    "al = \"BCDE \"\n",
    "for i in al:\n",
    "    print(s)\n",
    "    s+=f\" {i}\""
   ]
  },
  {
   "cell_type": "code",
   "execution_count": null,
   "id": "8ab46396",
   "metadata": {},
   "outputs": [],
   "source": [
    "def isPrime(n):\n",
    "    v = 2\n",
    "    if n<2: return False\n",
    "    for i in range(2, n):\n",
    "        if i*v==n: print(f\"{i}*{v}={n}\"); return False\n",
    "    return True\n",
    "\n",
    "\n",
    "for i in range(2, 10):\n",
    "    if isPrime(i): print(f\"{i} is Prime\")"
   ]
  },
  {
   "cell_type": "code",
   "execution_count": null,
   "id": "da9bc420",
   "metadata": {},
   "outputs": [],
   "source": [
    "s =0\n",
    "def isPrime(n):\n",
    "    v = 2; global s\n",
    "    if n<2: return False\n",
    "    for i in range(2, n):\n",
    "        if i*v==n: return False\n",
    "    s+=n\n",
    "    return  True\n",
    "\n",
    "for i in range(6):isPrime(i)\n",
    "print(s)"
   ]
  },
  {
   "cell_type": "code",
   "execution_count": null,
   "id": "4deb4ec1",
   "metadata": {},
   "outputs": [],
   "source": [
    "\n",
    "def add(num1, num2):return num1 + num2\n",
    "def subtract(num1, num2):return num1 - num2\n",
    "def multiply(num1, num2):return num1 * num2\n",
    "def divide(num1, num2):return num1 / num2\n",
    "print(\"Please select operation -\\n\" \\\n",
    "\t\t\"1. Add\\n\" \\\n",
    "\t\t\"2. Subtract\\n\" \\\n",
    "\t\t\"3. Multiply\\n\" \\\n",
    "\t\t\"4. Divide\\n\")\n",
    "select = int(input(\"Select operations form 1, 2, 3, 4 :\"))\n",
    "number_1 = int(input(\"Enter first number: \"))\n",
    "number_2 = int(input(\"Enter second number: \"))\n",
    "if select == 1:print(number_1, \"+\", number_2, \"=\",add(number_1, number_2))\n",
    "elif select == 2:print(number_1, \"-\", number_2, \"=\",subtract(number_1, number_2))\n",
    "elif select == 3:print(number_1, \"*\", number_2, \"=\",multiply(number_1, number_2))\n",
    "elif select == 4:print(number_1, \"/\", number_2, \"=\",divide(number_1, number_2))\n",
    "else:print(\"Invalid input\")"
   ]
  },
  {
   "cell_type": "code",
   "execution_count": null,
   "id": "e970fa61",
   "metadata": {},
   "outputs": [],
   "source": [
    "n = 5\n",
    "for i in range(1,n+1):\n",
    "    for j in range(1,n+1):\n",
    "        print(j, end=\" \")\n",
    "    print()\n",
    "    # O(1)"
   ]
  },
  {
   "cell_type": "code",
   "execution_count": null,
   "id": "0d4f56a9",
   "metadata": {},
   "outputs": [],
   "source": [
    "n = 10\n",
    "for i in range(1, n+1):\n",
    "    for j in range(n):\n",
    "        print(format(j+i, \"4d\"), end=\" \")\n",
    "    print()"
   ]
  },
  {
   "cell_type": "code",
   "execution_count": null,
   "id": "fc767f20",
   "metadata": {},
   "outputs": [],
   "source": [
    "\n",
    "for i in range(1, n+1):\n",
    "    for j in range(1, i+1):\n",
    "        print(i*j, end=\" \")\n",
    "    print()"
   ]
  },
  {
   "cell_type": "code",
   "execution_count": null,
   "id": "72dd9698",
   "metadata": {},
   "outputs": [],
   "source": [
    "s = 0;x=n\n",
    "for i in range(n, 0, -1):\n",
    "        print(\" \"*(s), \"* \"*(x))\n",
    "        s+=1; x -= 1\n"
   ]
  },
  {
   "cell_type": "code",
   "execution_count": 35,
   "id": "6b3cffa2",
   "metadata": {},
   "outputs": [
    {
     "name": "stdout",
     "output_type": "stream",
     "text": [
      "           * \n",
      "          * * \n",
      "         * * * \n",
      "        * * * * \n",
      "       * * * * * \n",
      "      * * * * * * \n",
      "     * * * * * * * \n",
      "    * * * * * * * * \n",
      "   * * * * * * * * * \n",
      "  * * * * * * * * * *\n",
      "   * * * * * * * * *\n",
      "    * * * * * * * *\n",
      "     * * * * * * *\n",
      "      * * * * * *\n",
      "       * * * * *\n",
      "        * * * *\n",
      "         * * *\n",
      "          * *\n",
      "           *\n"
     ]
    }
   ],
   "source": [
    "def diamond(n:int):\n",
    "    x = n\n",
    "    s=0\n",
    "    for i in range(1, n):\n",
    "        print(\" \"*n, \"* \"*i)\n",
    "        n-=1\n",
    "    for i in range(x, 0, -1):\n",
    "        print(\" \"*(s), \" *\"*(x))\n",
    "        s+=1; x -= 1\n",
    "diamond(10)\n",
    "\n"
   ]
  },
  {
   "cell_type": "code",
   "execution_count": null,
   "id": "caa904b3",
   "metadata": {},
   "outputs": [],
   "source": [
    "def square(n):\n",
    "    for i in range(1,n+1):\n",
    "        if i==1 or i==n:\n",
    "            print(\"*\"*(n))\n",
    "        else: print(\"*\", \" \"*int(n/2-1), \"*\")\n",
    "\n",
    "square(5)"
   ]
  },
  {
   "cell_type": "code",
   "execution_count": null,
   "id": "55640377",
   "metadata": {},
   "outputs": [],
   "source": [
    "\"\"\"\n",
    "*      *\n",
    "**    **\n",
    "***  ***\n",
    "********\n",
    "***  ***\n",
    "**    **\n",
    "*      *\n",
    "\"\"\"\n",
    "def btfl(n):\n",
    "    st = 2\n",
    "    nx = int(n/2)\n",
    "    for i in range(1,n+1):\n",
    "        if i<int(n/2):\n",
    "            print(f\"{'*'*i} {' '*(n-(i*2))} {'*'*i}\")\n",
    "        if i>int(n/2):\n",
    "            print(f\"{'*'*nx}{' '*(i-nx)} {'*'*nx}\")\n",
    "            nx-=1\n",
    "btfl(10)"
   ]
  },
  {
   "cell_type": "code",
   "execution_count": null,
   "id": "7059db93",
   "metadata": {},
   "outputs": [],
   "source": [
    "n = int(input(\"Enter a number : \"))\n",
    "print(f\"{n} is an Armstrong Number\" if sum(int(x)**len(str(n)) for x in str(n))==n else f\"{n} is not an Armstrong Number\")\n",
    "\n"
   ]
  },
  {
   "cell_type": "code",
   "execution_count": null,
   "id": "563bb6f2",
   "metadata": {},
   "outputs": [],
   "source": [
    "n = int(input(\"Enter a number : \"));m=1\n",
    "if n>0:\n",
    "    for i in range(1,n+1):m*=i\n",
    "print(f\"Factorial of {n} is : {m}\")"
   ]
  },
  {
   "cell_type": "code",
   "execution_count": null,
   "id": "665db277",
   "metadata": {},
   "outputs": [],
   "source": [
    "x = [5,6,7,8,9,0]\n",
    "x.remove(6)\n",
    "print(x)\n",
    "x.insert(1, 87)\n",
    "print(x)"
   ]
  },
  {
   "cell_type": "code",
   "execution_count": null,
   "id": "38b61bb3",
   "metadata": {},
   "outputs": [],
   "source": [
    "x = [2,3,4,9,5,7, 9,45,34]\n",
    "x[1:6] = [87, 87, 87]\n",
    "print(x)"
   ]
  },
  {
   "cell_type": "code",
   "execution_count": null,
   "id": "feca26cd",
   "metadata": {},
   "outputs": [],
   "source": [
    "x[-5:-1] = [88]\n",
    "# [2, 87, 87, 87, 9, 45, 34]\n",
    "#         -5___________  -1\n",
    "print(x)"
   ]
  },
  {
   "cell_type": "code",
   "execution_count": null,
   "id": "f95f8f0d",
   "metadata": {},
   "outputs": [],
   "source": [
    "x = 10\n",
    "y = 5\n",
    "\n",
    "x = x ^ y\n",
    "y = x ^ y\n",
    "x = x ^ y\n",
    "print(x,y)"
   ]
  },
  {
   "cell_type": "code",
   "execution_count": null,
   "id": "3c2306c6",
   "metadata": {},
   "outputs": [],
   "source": [
    "#check whether a number is palindrome or not\n",
    "# if reversed == original\n",
    "def palindrome(n):\n",
    "    print(\"Palindrome\" if str(n)[::-1] == str(n) else \"Not Palindrome\")\n",
    "palindrome(12321)"
   ]
  },
  {
   "cell_type": "code",
   "execution_count": 18,
   "id": "9b7469e6",
   "metadata": {},
   "outputs": [
    {
     "name": "stderr",
     "output_type": "stream",
     "text": [
      "Action Debugger Triggered\n",
      "\u001b[35m[2024-03-09 03:45:33]\u001b[34m [ERROR]: \u001b[0mAction Debugger Triggered\n",
      "\u001b[35m[2024-03-09 03:45:39]\u001b[34m [ERROR]: \u001b[0mAction Debugger Triggered\n",
      "\u001b[35m[2024-03-09 03:46:20]\u001b[32m [ERROR]: \u001b[0mAction Debugger Triggered\n",
      "\u001b[35m[2024-03-09 03:47:15]\u001b[32m [ERROR]: \u001b[0mAction Debugger Triggered\n",
      "\u001b[35m[2024-03-09 04:02:02]\u001b[32m [ERROR]: \u001b[0mAction Debugger Triggered\n",
      "\u001b[35m[2024-03-09 04:02:08]\u001b[32m [ERROR]: \u001b[0mAction Debugger Triggered\n",
      "\u001b[35m[2024-03-09 04:13:38]\u001b[1;33m [ERROR]: \u001b[0mAction Debugger Triggered\n",
      "\u001b[35m[2024-03-09 04:13:55]\u001b[1;31m [ERROR]: \u001b[0mAction Debugger Triggered\n",
      "\u001b[35m[2024-03-09 04:14:23]\u001b[1;31m [ERROR]: \u001b[0mAction Debugger Triggered\n",
      "\u001b[35m[2024-03-09 04:15:00]\u001b[1;31m [ERROR]: \u001b[0mAction Debugger Triggered\n"
     ]
    }
   ],
   "source": [
    "import logging, datetime\n",
    "class Logger:\n",
    "    \"\"\"\n",
    "    This class is used to log messages to the console with different format for different levels of logging.\n",
    "    1. debug: logs a debug message to the console\n",
    "    2. info: logs an info message to the console\n",
    "    3. warning: logs a warning message to the console\n",
    "    4. error: logs an error message to the console\n",
    "    5. critical: logs a critical message to the console\n",
    "    example:- logger = Logger()\n",
    "                logger.debug(\"Debug message\")\n",
    "                logger.info(\"Info message\")\n",
    "                logger.warning(\"Warning message\")\n",
    "                logger.error(\"Error message\")\n",
    "                logger.critical(\"Critical message\")\n",
    "    \"\"\"\n",
    "\n",
    "    def __init__(self, level=logging.INFO):\n",
    "        self.logger = logging.getLogger()\n",
    "        self.console_handler = logging.StreamHandler()\n",
    "        self.logger.setLevel(level)\n",
    "        self.logger.addHandler(self.console_handler)\n",
    "\n",
    "    def colors(self, level):\n",
    "        colors = {\n",
    "            \"DEBUG\":\"\\u001b[34m\", \n",
    "            \"INFO\":\"\\u001b[32m\", \n",
    "            \"WARNING\":\"\\033[1;33m\", \n",
    "            \"ERROR\":\"\\033[1;31m\", \n",
    "            \"CRITICAL\":\"\\033[1;31m\", \n",
    "            \"none\":\"\\u001b[0m\", \n",
    "            \"reset\":\"\\u001b[0m\", \n",
    "            \"bold\":\"\\u001b[1m\", \n",
    "            \"underline\":\"\\u001b[4m\", \n",
    "            \"blink\":\"\\u001b[5m\", \n",
    "            \"reverse\":\"\\u001b[7m\", \n",
    "            \"invisible\":\"\\u001b[8m\", \n",
    "            \"magenta\":\"\\u001b[35m\"}\n",
    "        return colors[level]\n",
    "\n",
    "    def debug(self, message):\n",
    "        formatter = logging.Formatter(f\"{self.colors('magenta')}[{str(datetime.datetime.utcnow())[:-7]}]{self.colors('DEBUG')} [%(levelname)s]: {self.colors('none')}%(message)s\")\n",
    "        self.console_handler.setFormatter(formatter)\n",
    "        self.logger.debug(message)\n",
    "\n",
    "    def info(self, message):\n",
    "        formatter = logging.Formatter(f\"{self.colors('magenta')}[{str(datetime.datetime.utcnow())[:-7]}]{self.colors('INFO')} [%(levelname)s]: {self.colors('none')}%(message)s\")\n",
    "        self.console_handler.setFormatter(formatter)\n",
    "        self.logger.info(message)\n",
    "\n",
    "    def warning(self, message):\n",
    "        formatter = logging.Formatter(f\"{self.colors('magenta')}[{str(datetime.datetime.utcnow())[:-7]}]{self.colors('WARNING')} [%(levelname)s]: {self.colors('none')}%(message)s\")\n",
    "        self.console_handler.setFormatter(formatter)\n",
    "        self.logger.warning(message)\n",
    "\n",
    "    def error(self, message):\n",
    "        formatter = logging.Formatter(f\"{self.colors('magenta')}[{str(datetime.datetime.utcnow())[:-7]}]{self.colors('ERROR')} [%(levelname)s]: {self.colors('none')}%(message)s\")\n",
    "        self.console_handler.setFormatter(formatter)\n",
    "        self.logger.error(message)\n",
    "\n",
    "    def critical(self, message):\n",
    "        formatter = logging.Formatter(f\"{self.colors('magenta')}[{str(datetime.datetime.utcnow())[:-7]}]{self.colors('CRITICAL')} [%(levelname)s]: {self.colors('none')}%(message)s\")\n",
    "        self.console_handler.setFormatter(formatter)\n",
    "        self.logger.critical(message)\n",
    "\n",
    "logger = Logger()\n",
    "logger.error(\"Action Debugger Triggered\")"
   ]
  },
  {
   "cell_type": "code",
   "execution_count": null,
   "id": "3180ead7",
   "metadata": {},
   "outputs": [],
   "source": [
    "li = [2,3,5,7,9,7,56,4]\n",
    "target =  5\n",
    "print(f\"Found at {li.index(target)}\" if target in li else \"Not Found\")"
   ]
  },
  {
   "cell_type": "code",
   "execution_count": null,
   "id": "53655654",
   "metadata": {},
   "outputs": [],
   "source": [
    "# sum = (n*(n+1)*(2*n+1))/6\n",
    "n = int(input(\"Enter the number : \"))\n",
    "s = \"\"\n",
    "for i in range(1,n+1):s+=f\"{i}^2 + \"\n",
    "print(s, \"\\n\", (n*(n+1)*(2*n+1))/6)"
   ]
  },
  {
   "cell_type": "code",
   "execution_count": 30,
   "id": "2e6d1531",
   "metadata": {},
   "outputs": [
    {
     "name": "stdout",
     "output_type": "stream",
     "text": [
      "It is a KrishnaMurti Number \n"
     ]
    }
   ],
   "source": [
    "def factor(n):\n",
    "    fact =1\n",
    "    if n<1: raise \"Factorial of 0 is not possible\"\n",
    "    for i in range(1,n+1):\n",
    "        fact*=i\n",
    "    return fact\n",
    "\n",
    "def krishnaMurti(n):\n",
    "    sum = 0\n",
    "    for i in str(n):\n",
    "        sum += factor(int(i))\n",
    "    if sum == n:print(\"It is a KrishnaMurti Number \")\n",
    "    else: print(\"It's Not\")\n",
    "#145\n",
    "krishnaMurti(int(input(\"Enter a number : \")))"
   ]
  },
  {
   "cell_type": "code",
   "execution_count": 2,
   "id": "a9da914b",
   "metadata": {},
   "outputs": [
    {
     "name": "stdout",
     "output_type": "stream",
     "text": [
      "4\n"
     ]
    }
   ],
   "source": [
    "def bSearch(arr, l, h, t):\n",
    "    if l<h:\n",
    "        mid = (l+h)//2\n",
    "        if arr[mid]==t: return mid\n",
    "        elif arr[mid]>t:return bSearch(arr, l, mid-1, t)\n",
    "        elif arr[mid]<t:return bSearch(arr, mid+1, h, t)\n",
    "        else:return -1\n",
    "arr=[1,3,5,8,9]\n",
    "print(bSearch(arr, 0, 5, 9))"
   ]
  },
  {
   "cell_type": "code",
   "execution_count": 8,
   "id": "7458388b",
   "metadata": {},
   "outputs": [
    {
     "name": "stdout",
     "output_type": "stream",
     "text": [
      "['69', '76', '76753']\n",
      "['69', '76', '76753', '87', 8, 90]\n"
     ]
    }
   ],
   "source": [
    "arr = [\"76\", \"76753\"]\n",
    "arr.insert(0, \"69\")\n",
    "print(arr)\n",
    "arr.append(\"87\")\n",
    "arr2 = (8, 90)\n",
    "arr.extend(arr2)\n",
    "print(arr)"
   ]
  },
  {
   "cell_type": "code",
   "execution_count": 10,
   "id": "2523748b",
   "metadata": {},
   "outputs": [
    {
     "name": "stdout",
     "output_type": "stream",
     "text": [
      "['69', '76', 8, 90]\n",
      "[]\n"
     ]
    }
   ],
   "source": [
    "arr.pop(2)\n",
    "print(arr)\n",
    "l2 = arr\n",
    "l2.clear()\n",
    "print(l2)"
   ]
  },
  {
   "cell_type": "code",
   "execution_count": 19,
   "id": "60e9c4bd",
   "metadata": {},
   "outputs": [
    {
     "name": "stdout",
     "output_type": "stream",
     "text": [
      "87 98 78 67 ['87', '78', '67']\n"
     ]
    }
   ],
   "source": [
    "arr = [\"87\", \"98\", \"78\", \"67\"]\n",
    "for i in range(len(arr)):\n",
    "    print(arr[i], end=\" \")\n",
    "\n",
    "    \n",
    "l4 = []\n",
    "for i in arr:\n",
    "    if \"7\" in i:l4.append(i)\n",
    "print(l4)"
   ]
  },
  {
   "cell_type": "code",
   "execution_count": 7,
   "id": "c817b73f",
   "metadata": {},
   "outputs": [
    {
     "name": "stdout",
     "output_type": "stream",
     "text": [
      "[0, 1, 2, 3, 4, 5, 6, 7, 8, 9]\n",
      "[0, 1, 2, 3, 4, 5, 6, 7, 8, 9]\n"
     ]
    }
   ],
   "source": [
    "arr = [i for i in range(10)]\n",
    "print(arr)\n",
    "x = list(arr)\n",
    "print(x)"
   ]
  },
  {
   "cell_type": "code",
   "execution_count": 9,
   "id": "f0bf6ad4",
   "metadata": {},
   "outputs": [
    {
     "name": "stdout",
     "output_type": "stream",
     "text": [
      "[None, None, None]\n"
     ]
    }
   ],
   "source": [
    "n1 = [\"hunter\", \"debjit\", \"raitig\"]\n",
    "n2=[1,2,3]"
   ]
  },
  {
   "cell_type": "code",
   "execution_count": 1,
   "id": "02270107",
   "metadata": {},
   "outputs": [
    {
     "data": {
      "text/plain": [
       "1"
      ]
     },
     "execution_count": 1,
     "metadata": {},
     "output_type": "execute_result"
    }
   ],
   "source": [
    "thislist=['cricket','hockey','football','rugby']\n",
    "thislist.index('hockey')\n"
   ]
  },
  {
   "cell_type": "code",
   "execution_count": 2,
   "id": "2a52ee1d",
   "metadata": {},
   "outputs": [
    {
     "name": "stdout",
     "output_type": "stream",
     "text": [
      "[1, 2, 3, 4, 7, 8, 9]\n"
     ]
    }
   ],
   "source": [
    "# Stack operations\n",
    "stack = [2,3,4,7,1]\n",
    "stack.sort()\n",
    "stack.append(8)\n",
    "stack.append(9)\n",
    "print(stack)"
   ]
  },
  {
   "cell_type": "code",
   "execution_count": 3,
   "id": "811e0e4c",
   "metadata": {},
   "outputs": [
    {
     "name": "stdout",
     "output_type": "stream",
     "text": [
      "deque(['huner', 'audio', 'play', 'karega', '87'])\n"
     ]
    }
   ],
   "source": [
    "from collections import deque\n",
    "queue = deque([\"huner\", \"audio\", \"play\", \"karega\"])\n",
    "queue.append(\"87\")\n",
    "print(queue)"
   ]
  },
  {
   "cell_type": "code",
   "execution_count": null,
   "id": "a58ac247",
   "metadata": {},
   "outputs": [],
   "source": [
    "matrix = [\n",
    "    [1,2,3],\n",
    "    [4,5,6],\n",
    "    [7,8,9],\n",
    "    [10, 11, 12]\n",
    "]\n",
    "[[row[i] for row in matrix] for i in range(4)]"
   ]
  },
  {
   "cell_type": "code",
   "execution_count": 7,
   "id": "3382dd29",
   "metadata": {},
   "outputs": [
    {
     "name": "stdout",
     "output_type": "stream",
     "text": [
      "[(1, 4, 7, 10), (2, 5, 8, 11), (3, 6, 9, 12)]\n"
     ]
    }
   ],
   "source": [
    "print(list(zip(*matrix)))"
   ]
  },
  {
   "cell_type": "code",
   "execution_count": 17,
   "id": "845f9625",
   "metadata": {},
   "outputs": [
    {
     "name": "stdout",
     "output_type": "stream",
     "text": [
      "(3, 4, 7, 9, 2, 1)\n",
      "<class 'tuple'>\n"
     ]
    }
   ],
   "source": [
    "tpl = (3,4,7,9,2,1,)\n",
    "print(tpl)\n",
    "print(type(tpl))"
   ]
  },
  {
   "cell_type": "code",
   "execution_count": 18,
   "id": "f837ce58",
   "metadata": {},
   "outputs": [
    {
     "name": "stdout",
     "output_type": "stream",
     "text": [
      "(3, 4, 7)\n"
     ]
    }
   ],
   "source": [
    "print(tpl[0:3])"
   ]
  },
  {
   "cell_type": "code",
   "execution_count": 22,
   "id": "def18889",
   "metadata": {},
   "outputs": [
    {
     "name": "stdout",
     "output_type": "stream",
     "text": [
      "[7, 6, 5, 4, 3]\n"
     ]
    }
   ],
   "source": [
    "li = [3,4,5,6,7]\n",
    "print(li[::-1])"
   ]
  },
  {
   "cell_type": "code",
   "execution_count": 1,
   "id": "5c2cf43c",
   "metadata": {},
   "outputs": [
    {
     "name": "stdout",
     "output_type": "stream",
     "text": [
      "tuple[slice(-5, 2, None)]\n"
     ]
    }
   ],
   "source": [
    "#return an empty tuple\n",
    "list=['footbll','cricket','football','rugby','badminton','hockey','boxing',\"volleyball\"]\n",
    "print(tuple[-5:2])"
   ]
  },
  {
   "cell_type": "code",
   "execution_count": 6,
   "id": "7909e506",
   "metadata": {},
   "outputs": [
    {
     "name": "stdout",
     "output_type": "stream",
     "text": [
      "<class 'tuple'>\n"
     ]
    }
   ],
   "source": [
    "#delete the whole tuple\n",
    "tuple=('footbll','cricket','football','rugby','badminton','hockey','boxing','volleyball')\n",
    "del tuple\n",
    "print(tuple)"
   ]
  },
  {
   "cell_type": "code",
   "execution_count": 7,
   "id": "acb06ccc",
   "metadata": {},
   "outputs": [
    {
     "name": "stdout",
     "output_type": "stream",
     "text": [
      "['footbll', 'cricket', 'football', 'rugby', 'badminton', 'hockey', 'boxing']\n",
      "volleyball\n"
     ]
    }
   ],
   "source": [
    "tuple=('footbll','cricket','football','rugby','badminton','hockey','boxing','volleyball')\n",
    "(*field,indoor)=tuple\n",
    "print(field)\n",
    "print(indoor)"
   ]
  },
  {
   "cell_type": "code",
   "execution_count": 4,
   "id": "4fb5bc24",
   "metadata": {},
   "outputs": [
    {
     "name": "stdout",
     "output_type": "stream",
     "text": [
      "cricket\n",
      "boxing\n"
     ]
    }
   ],
   "source": [
    "#unpack the tuple elements\n",
    "tuple=(\"cricket\",\"boxing\")\n",
    "(field,indoor)=tuple\n",
    "print(field)\n",
    "print(indoor)"
   ]
  },
  {
   "cell_type": "code",
   "execution_count": null,
   "id": "a1331af8",
   "metadata": {},
   "outputs": [],
   "source": [
    "#count method for the tuple\n",
    "tuple=('footbll','cricket','football','rugby','badminton','hockey','boxing','volleyball')\n"
   ]
  },
  {
   "cell_type": "code",
   "execution_count": 8,
   "id": "5d2789b8",
   "metadata": {},
   "outputs": [
    {
     "name": "stdout",
     "output_type": "stream",
     "text": [
      "footbll\n",
      "cricket\n",
      "football\n",
      "rugby\n",
      "badminton\n",
      "hockey\n",
      "boxing\n",
      "volleyball\n"
     ]
    }
   ],
   "source": [
    "#use for loop for tuples\n",
    "tuple=('footbll','cricket','football','rugby','badminton','hockey','boxing','volleyball')\n",
    "for i in range(len(tuple)):\n",
    "    print(tuple[i])"
   ]
  },
  {
   "cell_type": "code",
   "execution_count": 9,
   "id": "5cce6d9f",
   "metadata": {},
   "outputs": [
    {
     "name": "stdout",
     "output_type": "stream",
     "text": [
      "footbll\n",
      "cricket\n",
      "football\n",
      "rugby\n",
      "badminton\n",
      "hockey\n",
      "boxing\n",
      "volleyball\n"
     ]
    }
   ],
   "source": [
    "#using while loop for the tuple\n",
    "tuple=('footbll','cricket','football','rugby','badminton','hockey','boxing','volleyball')\n",
    "i=0\n",
    "while i<len(tuple):\n",
    "    print(tuple[i])\n",
    "    i=i+1"
   ]
  },
  {
   "cell_type": "code",
   "execution_count": 10,
   "id": "d9f1cc0c",
   "metadata": {},
   "outputs": [
    {
     "name": "stdout",
     "output_type": "stream",
     "text": [
      "1\n"
     ]
    }
   ],
   "source": [
    "#count method for the tuple\n",
    "tuple=('footbll','cricket','football','rugby','badminton','hockey','boxing','volleyball')\n",
    "x=tuple.count('cricket')\n",
    "print(x)"
   ]
  },
  {
   "cell_type": "code",
   "execution_count": 12,
   "id": "17c189af",
   "metadata": {},
   "outputs": [
    {
     "name": "stdout",
     "output_type": "stream",
     "text": [
      "['footbll', 'cricket', 'football', 'rugby', 'badminton', 'hockey', 'boxing', 'volleyball']\n",
      "<class 'list'>\n"
     ]
    }
   ],
   "source": [
    "#convert a tuple into the list with the help of append function\n",
    "newtuple=('footbll','cricket','football','rugby','badminton','hockey','boxing','volleyball')\n",
    "newlist=[]\n",
    "for i in newtuple:\n",
    "    newlist.append(i)\n",
    "print(newlist)\n",
    "print(type(newlist))\n",
    "\n"
   ]
  },
  {
   "cell_type": "code",
   "execution_count": 1,
   "id": "c7e47023",
   "metadata": {},
   "outputs": [
    {
     "name": "stdout",
     "output_type": "stream",
     "text": [
      "['footbll', 'cricket', 'football', 'rugby', 'badminton', 'hockey', 'boxing', 'volleyball']\n"
     ]
    }
   ],
   "source": [
    "new_tuple=('footbll','cricket','football','rugby','badminton','hockey','boxing','volleyball')\n",
    "new_list=[element for element in new_tuple]\n",
    "print(new_list)"
   ]
  },
  {
   "cell_type": "code",
   "execution_count": 2,
   "id": "eb002dca",
   "metadata": {},
   "outputs": [
    {
     "name": "stdout",
     "output_type": "stream",
     "text": [
      "{'noob', 'was', 'hunter87'}\n",
      "  hunter87 "
     ]
    }
   ],
   "source": [
    "st = {\"hunter87\", \"was\", \"noob\"}\n",
    "print(st)\n",
    "for i in st:\n",
    "    print(i if \"87\" in i else  \"\", end=\" \")"
   ]
  },
  {
   "cell_type": "code",
   "execution_count": 6,
   "id": "bb87fbb7",
   "metadata": {},
   "outputs": [
    {
     "name": "stdout",
     "output_type": "stream",
     "text": [
      "{'noob', 'hai', 'was', 'hunter69', 'hunter87', 'piro'}\n",
      "{'noob', 'hai', 'was', 'hunter69', 'hunter87', 'piro'}\n",
      "['__and__', '__class__', '__class_getitem__', '__contains__', '__delattr__', '__dir__', '__doc__', '__eq__', '__format__', '__ge__', '__getattribute__', '__gt__', '__hash__', '__iand__', '__init__', '__init_subclass__', '__ior__', '__isub__', '__iter__', '__ixor__', '__le__', '__len__', '__lt__', '__ne__', '__new__', '__or__', '__rand__', '__reduce__', '__reduce_ex__', '__repr__', '__ror__', '__rsub__', '__rxor__', '__setattr__', '__sizeof__', '__str__', '__sub__', '__subclasshook__', '__xor__', 'add', 'clear', 'copy', 'difference', 'difference_update', 'discard', 'intersection', 'intersection_update', 'isdisjoint', 'issubset', 'issuperset', 'pop', 'remove', 'symmetric_difference', 'symmetric_difference_update', 'union', 'update']\n"
     ]
    }
   ],
   "source": [
    "st.add(\"hunter69\")\n",
    "print(st)\n",
    "st.update({\"piro\", \"hai\"})\n",
    "print(st)\n",
    "print(dir(st))"
   ]
  },
  {
   "cell_type": "code",
   "execution_count": 9,
   "id": "ab06898c",
   "metadata": {},
   "outputs": [
    {
     "name": "stdout",
     "output_type": "stream",
     "text": [
      "{'is', 'pro', 'hunter87'}\n"
     ]
    }
   ],
   "source": [
    "nst = set((\"hunter87\", \"is\", \"pro\"))\n",
    "print(nst)"
   ]
  },
  {
   "cell_type": "code",
   "execution_count": 12,
   "id": "4f27f308",
   "metadata": {},
   "outputs": [
    {
     "name": "stdout",
     "output_type": "stream",
     "text": [
      "{'name': 'hunter87', 'profession': 'berojgar'}\n",
      "hunter87\n"
     ]
    }
   ],
   "source": [
    "dic = {\"name\":\"hunter87\", \"profession\":\"berojgar\"}\n",
    "#x = dict(name=\"hunter87\", age=30, profession=\"berojgar\")\n",
    "print(dic)\n",
    "print(dic.get(\"name\"))\n"
   ]
  },
  {
   "cell_type": "code",
   "execution_count": 17,
   "id": "4cf72304",
   "metadata": {},
   "outputs": [
    {
     "name": "stdout",
     "output_type": "stream",
     "text": [
      "https://pagalnew.com/songs/pal-jalebi.html\n",
      "None\n"
     ]
    }
   ],
   "source": [
    "import os\n",
    "os.system(\"pip install requests bs4 html5lib\")\n",
    "import requests\n",
    "from bs4 import  BeautifulSoup\n",
    "\n",
    "\n",
    "def fetch_audio(url):\n",
    "    data = requests.get(url).content\n",
    "    soup=BeautifulSoup(data, features=\"html5lib\")\n",
    "    sources = soup.findAll('source')\n",
    "    for src in sources:\n",
    "        src_url=src.get('src')\n",
    "        if 'mp3' in str(src_url):\n",
    "            src_url=src_url.replace(\" \", \"%20\")\n",
    "            return src_url\n",
    "\n",
    "def fetch_url(name:str):\n",
    "    nsr=f\"https://google.com/search?q={name}+mp3+file+download+for+free\"\n",
    "    if \" \" in nsr:\n",
    "        nsr=nsr.replace(\" \", \"+\")\n",
    "    data = requests.get(nsr).content\n",
    "    soup=BeautifulSoup(data, features=\"html5lib\")\n",
    "    atags=soup.findAll(\"a\")\n",
    "    for a in atags:\n",
    "        href=a.get(\"href\")\n",
    "        # print(href[7:].split(\"&sa\")[0])\n",
    "        if href[7:].startswith(\"https\") and \"pagal\" in href:\n",
    "            print(href[7:].split(\"&sa\")[0])\n",
    "            url = fetch_audio(href[7:].split(\"&sa\")[0])\n",
    "            return url\n",
    "        \n",
    "\n",
    "print(fetch_url(\"pal by arijit singh \"))\n"
   ]
  },
  {
   "cell_type": "code",
   "execution_count": 3,
   "id": "d83c06fe",
   "metadata": {},
   "outputs": [
    {
     "name": "stdout",
     "output_type": "stream",
     "text": [
      "Before:  [4, 56, 7, 8, 98, 34, 4]\n",
      "After:  [98, 34, 4, 7, 8, 56]\n"
     ]
    }
   ],
   "source": [
    "li  = [4,56,7,8,98,34,4]\n",
    "print(\"Before: \", li)\n",
    "print(\"After: \", list(set(li)))"
   ]
  },
  {
   "cell_type": "code",
   "execution_count": 6,
   "id": "3785d3a9",
   "metadata": {},
   "outputs": [
    {
     "name": "stdout",
     "output_type": "stream",
     "text": [
      "1  appeared  1  Times\n",
      "2  appeared  3  Times\n",
      "3  appeared  1  Times\n",
      "4  appeared  2  Times\n",
      "6  appeared  2  Times\n",
      "7  appeared  1  Times\n",
      "8  appeared  1  Times\n"
     ]
    }
   ],
   "source": [
    "li = [1,2,2,3,4,4,6,7,8, 2,6]\n",
    "for i in set(li):\n",
    "    print(i, \" appeared \", li.count(i), \" Times\")"
   ]
  },
  {
   "cell_type": "code",
   "execution_count": 8,
   "id": "27dd04ed",
   "metadata": {},
   "outputs": [
    {
     "name": "stdout",
     "output_type": "stream",
     "text": [
      "Original : [78, 74, 74, 88, 61, 91, 33, 15, 81, 53]\n",
      "Even : [78, 74, 74, 88]\n",
      "Odd : [61, 91, 33, 15, 81, 53]\n"
     ]
    }
   ],
   "source": [
    "import random\n",
    "even=[]; odd=[]\n",
    "for i in range(10):\n",
    "    num = random.randint(1,100)\n",
    "    even.append(num) if  num % 2 == 0 else odd.append(num)\n",
    "print(f\"Original : {even+odd}\\nEven : {even}\\nOdd : {odd}\")\n"
   ]
  }
 ],
 "metadata": {
  "kernelspec": {
   "display_name": "Python 3 (ipykernel)",
   "language": "python",
   "name": "python3"
  },
  "language_info": {
   "codemirror_mode": {
    "name": "ipython",
    "version": 3
   },
   "file_extension": ".py",
   "mimetype": "text/x-python",
   "name": "python",
   "nbconvert_exporter": "python",
   "pygments_lexer": "ipython3",
   "version": "3.9.0"
  }
 },
 "nbformat": 4,
 "nbformat_minor": 5
}
